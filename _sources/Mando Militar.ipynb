{
 "cells": [
  {
   "cell_type": "markdown",
   "id": "d32a06fe",
   "metadata": {},
   "source": [
    "# Mando Militar\n",
    "\n",
    "![avatar](C:/Users/adria/adrianmilialmeida/imagenes/img2.png)\n",
    "\n",
    "El General de Brigada Luis Enrique Burbano Rivera nació en Quito, provincia de Pichincha, el 3 de enero\n",
    "                de 1962. Está casado con la señora Magdalena Bayas Manzano y tienen dos hijos: Andrea y Santiago Burbano\n",
    "                Bayas.\n",
    "\n",
    "Se graduó como Subteniente de Comunicaciones el 6 de agosto de 1984 en la Escuela Superior Militar Eloy\n",
    "                Alfaro y, posteriormente, recibe el despacho al Arma de Inteligencia Militar en el año de 1996. Es\n",
    "                licenciado en Ciencias Militares, Magíster en Defensa Nacional por la Escuela de Defensa Nacional\n",
    "                (Buenos Aires-Argentina); además, tiene un Diplomado en Gestión del Aprendizaje Universitario por la\n",
    "                Universidad de las FF.AA.-ESPE; Diplomado en Inteligencia Económica por la Universidad Bernardo\n",
    "                O’Higgins de Chile; y una Maestría en Estudios Superiores de Defensa en el Collège Interarmées de\n",
    "                Défense (París-Francia). Como parte de su formación militar ha efectuado los cursos de Inteligencia\n",
    "                Militar; Analista de Inteligencia Estratégica; Observador Militar de las Naciones Unidas y el Curso\n",
    "                Avanzado en la Escuela de Perfeccionamiento del Ejército de Brasil, en Río de Janeiro.\n",
    "\n",
    "Durante sus 37 años de servicio institucional ha ejercido funciones como: Docente de la Escuela Superior\n",
    "                Militar Eloy Alfaro, Escuela de Perfeccionamiento del Ejército, Academia de Guerra del Ejército,\n",
    "                Academia de Guerra Aérea, Instituto Nacional de Defensa; Observador Militar, Misión Observadores\n",
    "                Militares Ecuador-Perú (Momep); Agregado Militar Adjunto a la Embajada del Ecuador en Francia;\n",
    "                Comandante de la Brigada de Selva N.° 19 Napo; Director de la Academia de Guerra del Ejército; Director\n",
    "                de la Escuela de Formación de Soldados del Ejército Vencedores del Cenepa; Comandante de la Primera\n",
    "                División de Ejército Shyris; Director General de Inteligencia del Comando Conjunto de las FF.AA.; Jefe\n",
    "                del Estado Mayor del Ejército; Jefe del Estado Mayor Operacional del Comando Conjunto de las FF.AA. y\n",
    "                actual Comandante General del Ejército Ecuatoriano.\n",
    "\n",
    "Para mas información. [Pagina principal Ejército Ecuatoriano ](https://ejercitoecuatoriano.mil.ec/)"
   ]
  }
 ],
 "metadata": {
  "jupytext": {
   "cell_metadata_filter": "-all",
   "formats": "md:myst",
   "text_representation": {
    "extension": ".md",
    "format_name": "myst",
    "format_version": 0.13,
    "jupytext_version": "1.11.5"
   }
  },
  "kernelspec": {
   "display_name": "Python 3",
   "language": "python",
   "name": "python3"
  },
  "language_info": {
   "codemirror_mode": {
    "name": "ipython",
    "version": 3
   },
   "file_extension": ".py",
   "mimetype": "text/x-python",
   "name": "python",
   "nbconvert_exporter": "python",
   "pygments_lexer": "ipython3",
   "version": "3.7.12"
  },
  "source_map": [
   14
  ]
 },
 "nbformat": 4,
 "nbformat_minor": 5
}