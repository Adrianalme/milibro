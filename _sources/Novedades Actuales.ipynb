{
 "cells": [
  {
   "cell_type": "markdown",
   "id": "43ddcd15",
   "metadata": {},
   "source": [
    "# Novedades Actuales\n",
    "\n",
    "![avatar](C:/Users/adria/adrianmilialmeida/imagenes/act1.jpg)\n",
    "\n",
    "En Sucumbíos, la Brigada de Selva N.° 19 Napo, a través del Grupo de Fuerzas Especiales N.º 53 Rayo,\n",
    "                localizó y destruyó 10 mil plantas de coca, aproximadamente 2 hectáreas, durante la ejecución de\n",
    "                operaciones de vigilancia y control de los espacios terrestres y acuáticos en el límite político\n",
    "                internacional en las riberas del río Putumayo. Además, se incautó 1 bomba de agua y 300 metros de\n",
    "                manguera para riego, evitando que sean procesadas por organizaciones dedicadas al narcotráfico.\n",
    "\n",
    "![avatar](C:/Users/adria/adrianmilialmeida/imagenes/act2.jpg)\n",
    "\n",
    "Personal del Batallón de Ingenieros N.º 67 Montúfar, en coordinación con Fiscalía de Santo Domingo, DGI,\n",
    "Policía Judicial, Criminalística, en presencia del fiscal del cantón Santo Domingo, abogado Manuel\n",
    "Paladines se ejecutó una operación de control de armas, municiones y explosivos en el kilómetro 7, vía a\n",
    "Puerto Limón del cantón Santo Domingo, donde se realizó el allanamiento de una vivienda, obteniendo los siguientes resultados:\n",
    "\n",
    "            1 carabina mossberg calibre 12 mm, serie H367684 \n",
    "            1 carabina mossberg calibre 12 mm \n",
    "            1 revólver calibre 22 mm, serie R251329 \n",
    "            1 revólver calibre 32 mm serie 74237 \n",
    "            50 municiones 9 mm marca Luger \n",
    "            47 municiones 9 mm marca SB \n",
    "            23 cartuchos calibre 12 mm marca Gauge \n",
    "\n",
    "La Policía de Criminalística trasladó con cadena de custodia el armamento y munición a las bodegas de la\n",
    "Policía Judicial. Además, se aprehendió al ciudadano Patricio Marcelo López Rodríguez, CI 1304056698,\n",
    "que fue trasladado por la Policía Judicial para los respectivos trámites de ley.\n",
    "\n",
    "Para mas información. [Pagina principal Ejército Ecuatoriano ](https://ejercitoecuatoriano.mil.ec/)"
   ]
  }
 ],
 "metadata": {
  "jupytext": {
   "cell_metadata_filter": "-all",
   "formats": "md:myst",
   "text_representation": {
    "extension": ".md",
    "format_name": "myst",
    "format_version": 0.13,
    "jupytext_version": "1.11.5"
   }
  },
  "kernelspec": {
   "display_name": "Python 3",
   "language": "python",
   "name": "python3"
  },
  "language_info": {
   "codemirror_mode": {
    "name": "ipython",
    "version": 3
   },
   "file_extension": ".py",
   "mimetype": "text/x-python",
   "name": "python",
   "nbconvert_exporter": "python",
   "pygments_lexer": "ipython3",
   "version": "3.7.12"
  },
  "source_map": [
   14
  ]
 },
 "nbformat": 4,
 "nbformat_minor": 5
}